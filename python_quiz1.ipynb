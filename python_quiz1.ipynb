{
 "cells": [
  {
   "cell_type": "markdown",
   "metadata": {},
   "source": [
    "### The goal of this quiz is to practice using python to do data wrangling, reporting, basic statistics and visualization"
   ]
  },
  {
   "cell_type": "markdown",
   "metadata": {},
   "source": [
    " __Question 1: import some basic python packages in the following way__\n",
    " \n",
    " * import the pandas package and call it pd\n",
    " * import the numpy package and call it np\n",
    " * import the pyplot module from matplotlb and call it plt\n",
    " * import the seaborn package and call it sns"
   ]
  },
  {
   "cell_type": "code",
   "execution_count": 2,
   "metadata": {
    "collapsed": true
   },
   "outputs": [],
   "source": [
    "# answer question 1 \n",
    "import pandas as pd\n",
    "import numpy as np\n",
    "import matplotlib.pyplot as plt\n",
    "import seaborn as sns\n"
   ]
  },
  {
   "cell_type": "markdown",
   "metadata": {},
   "source": [
    "# __Question 2: read the csv file '2016_presidential_candidate_expenditures.csv' using pandas__ \n",
    "Be sure to give this dataframe a name so you can use it later\n",
    "\n",
    "( hint: use the 'tab' key to help navigate between different functions and directories)\n",
    "\n"
   ]
  },
  {
   "cell_type": "code",
   "execution_count": 3,
   "metadata": {
    "collapsed": true
   },
   "outputs": [],
   "source": [
    "# answer question 2\n",
    "pcs_data=pd.read_csv('C:/Users/Krutie Thakkar/Desktop/PythonPractice/2016_presidential_candidate_expenditures.csv')\n"
   ]
  },
  {
   "cell_type": "markdown",
   "metadata": {},
   "source": [
    "__Question 3: find the following basic information ___\n",
    "* a) list all the columns for this data frame (hint: use the 'columns' attribute)\n",
    "* b) how many records are there?\n",
    "* c) what does the first 3 rows and the last 3 rows look like? \n"
   ]
  },
  {
   "cell_type": "code",
   "execution_count": 11,
   "metadata": {
    "collapsed": false,
    "scrolled": false
   },
   "outputs": [
    {
     "data": {
      "text/html": [
       "<div>\n",
       "<table border=\"1\" class=\"dataframe\">\n",
       "  <thead>\n",
       "    <tr style=\"text-align: right;\">\n",
       "      <th></th>\n",
       "      <th>cmte_id</th>\n",
       "      <th>cand_id</th>\n",
       "      <th>cand_nm</th>\n",
       "      <th>Party</th>\n",
       "      <th>recipient_nm</th>\n",
       "      <th>disb_amt</th>\n",
       "      <th>disb_dt</th>\n",
       "      <th>recipient_city</th>\n",
       "      <th>recipient_st</th>\n",
       "      <th>recipient_zip</th>\n",
       "      <th>disb_desc</th>\n",
       "      <th>memo_cd</th>\n",
       "      <th>memo_text</th>\n",
       "      <th>form_tp</th>\n",
       "      <th>file_num</th>\n",
       "      <th>tran_id</th>\n",
       "      <th>election_tp</th>\n",
       "    </tr>\n",
       "  </thead>\n",
       "  <tbody>\n",
       "    <tr>\n",
       "      <th>159923</th>\n",
       "      <td>C00605568</td>\n",
       "      <td>P20002671</td>\n",
       "      <td>Johnson, Gary</td>\n",
       "      <td>#REF!</td>\n",
       "      <td>DB CAPITOL STRATEGIES</td>\n",
       "      <td>2000.00</td>\n",
       "      <td>18-Feb-16</td>\n",
       "      <td>ALEXANDRIA</td>\n",
       "      <td>VA</td>\n",
       "      <td>22314</td>\n",
       "      <td>LEGAL FEES</td>\n",
       "      <td>NaN</td>\n",
       "      <td>NaN</td>\n",
       "      <td>SB23</td>\n",
       "      <td>1056842</td>\n",
       "      <td>SB23.10125</td>\n",
       "      <td>P2016</td>\n",
       "    </tr>\n",
       "    <tr>\n",
       "      <th>159924</th>\n",
       "      <td>C00605568</td>\n",
       "      <td>P20002671</td>\n",
       "      <td>Johnson, Gary</td>\n",
       "      <td>#REF!</td>\n",
       "      <td>DB CAPITOL STRATEGIES</td>\n",
       "      <td>2000.00</td>\n",
       "      <td>27-Jan-16</td>\n",
       "      <td>ALEXANDRIA</td>\n",
       "      <td>VA</td>\n",
       "      <td>22314</td>\n",
       "      <td>LEGAL FEES</td>\n",
       "      <td>NaN</td>\n",
       "      <td>NaN</td>\n",
       "      <td>SB23</td>\n",
       "      <td>1051588</td>\n",
       "      <td>SB23.4118</td>\n",
       "      <td>P2016</td>\n",
       "    </tr>\n",
       "    <tr>\n",
       "      <th>159925</th>\n",
       "      <td>C00605568</td>\n",
       "      <td>P20002671</td>\n",
       "      <td>Johnson, Gary</td>\n",
       "      <td>#REF!</td>\n",
       "      <td>CRAIG, ANDY</td>\n",
       "      <td>781.25</td>\n",
       "      <td>18-Mar-16</td>\n",
       "      <td>MILWAUKEE</td>\n",
       "      <td>WI</td>\n",
       "      <td>53222</td>\n",
       "      <td>CAMPAIGN CONSULTING</td>\n",
       "      <td>NaN</td>\n",
       "      <td>NaN</td>\n",
       "      <td>SB23</td>\n",
       "      <td>1066293</td>\n",
       "      <td>SB23.13665</td>\n",
       "      <td>P2016</td>\n",
       "    </tr>\n",
       "  </tbody>\n",
       "</table>\n",
       "</div>"
      ],
      "text/plain": [
       "          cmte_id    cand_id        cand_nm  Party           recipient_nm  \\\n",
       "159923  C00605568  P20002671  Johnson, Gary  #REF!  DB CAPITOL STRATEGIES   \n",
       "159924  C00605568  P20002671  Johnson, Gary  #REF!  DB CAPITOL STRATEGIES   \n",
       "159925  C00605568  P20002671  Johnson, Gary  #REF!            CRAIG, ANDY   \n",
       "\n",
       "        disb_amt    disb_dt recipient_city recipient_st recipient_zip  \\\n",
       "159923   2000.00  18-Feb-16     ALEXANDRIA           VA         22314   \n",
       "159924   2000.00  27-Jan-16     ALEXANDRIA           VA         22314   \n",
       "159925    781.25  18-Mar-16      MILWAUKEE           WI         53222   \n",
       "\n",
       "                  disb_desc memo_cd memo_text form_tp  file_num     tran_id  \\\n",
       "159923           LEGAL FEES     NaN       NaN    SB23   1056842  SB23.10125   \n",
       "159924           LEGAL FEES     NaN       NaN    SB23   1051588   SB23.4118   \n",
       "159925  CAMPAIGN CONSULTING     NaN       NaN    SB23   1066293  SB23.13665   \n",
       "\n",
       "       election_tp  \n",
       "159923       P2016  \n",
       "159924       P2016  \n",
       "159925       P2016  "
      ]
     },
     "execution_count": 11,
     "metadata": {},
     "output_type": "execute_result"
    }
   ],
   "source": [
    "# answer question 3 a\n",
    "pcs_data.columns\n",
    "\n",
    "\n",
    "# answer question 3 b (17)\n",
    "\n",
    "# answer question 3 c \n",
    "# first 3 rows:\n",
    "pcs_data.head(3)\n",
    "\n",
    "# last 3 rows:\n",
    "pcs_data.tail(3)\n",
    "\n"
   ]
  },
  {
   "cell_type": "markdown",
   "metadata": {},
   "source": [
    "__Question 4: (getting to know your data)__\n",
    "\n",
    "list the type of each column for this data set. What does each column look like to you? "
   ]
  },
  {
   "cell_type": "code",
   "execution_count": 11,
   "metadata": {
    "collapsed": true
   },
   "outputs": [],
   "source": [
    "## answer question 4:\n"
   ]
  },
  {
   "cell_type": "markdown",
   "metadata": {},
   "source": [
    "__Question 5:__\n",
    "For this question, we're going to introduce the set() function. What set() does is it returns the unique elements of a list. For example, if df is a dataframe with columns 'A', 'B' and 'C'. Then set(df['A']) would return all the unique elements in column A of df. \n",
    "\n",
    "__Now, using set( ), who are all the candidates in this data frame?__\n"
   ]
  },
  {
   "cell_type": "code",
   "execution_count": 12,
   "metadata": {
    "collapsed": false
   },
   "outputs": [],
   "source": [
    "# answer question 5:\n",
    "\n"
   ]
  },
  {
   "cell_type": "markdown",
   "metadata": {
    "collapsed": true
   },
   "source": [
    "__Question 6 - 8 : For question 6-8, you'll be using a subset of the data (let's call it spending_by_prez) by taking only the columns that contain the candidates name and the amount of money he/she spent__\n"
   ]
  },
  {
   "cell_type": "code",
   "execution_count": 13,
   "metadata": {
    "collapsed": false
   },
   "outputs": [],
   "source": [
    "# Question 6: \n"
   ]
  },
  {
   "cell_type": "markdown",
   "metadata": {},
   "source": [
    "__Question 7: using the data frame you defined above, check  the following: __\n",
    "\n",
    "* What is the average, median, max and min spending? \n",
    "* how many entries have negative dolloar amount?\n"
   ]
  },
  {
   "cell_type": "code",
   "execution_count": 14,
   "metadata": {
    "collapsed": false
   },
   "outputs": [],
   "source": [
    "# Answer question 7: \n"
   ]
  },
  {
   "cell_type": "markdown",
   "metadata": {
    "collapsed": false
   },
   "source": [
    "__Question 8 : (visualization) using the barplot function from seaborn and the dataframe you just created in question 6, plot the amount of money spent by each candidate.__ \n",
    "\n",
    "hint 1: the format should look like this : sns.barplot(x='some_column',y='some_column',data=your_data\n",
    "\n",
    "hint 2: If the x values of your plot looks crowded, try changing the order of x and y (e.g. x = $, y = candidates) \n",
    "\n",
    "hint 3: To make the plot look larger, you can also add : plt.figure(figsize=(w,h)), where w and h are your choices and width and height parameters of your figure"
   ]
  },
  {
   "cell_type": "code",
   "execution_count": 15,
   "metadata": {
    "collapsed": false
   },
   "outputs": [],
   "source": [
    "# Answer question 8:\n"
   ]
  },
  {
   "cell_type": "markdown",
   "metadata": {},
   "source": [
    "__Question 9: back to your original dataframe__\n",
    "\n",
    "* in the 'memo_txt' column, what do the values look like?\n",
    "* let's fill those strange values with the label 'Unknown'\n"
   ]
  },
  {
   "cell_type": "code",
   "execution_count": 16,
   "metadata": {
    "collapsed": false
   },
   "outputs": [],
   "source": [
    "# Answer question 9:\n"
   ]
  },
  {
   "cell_type": "markdown",
   "metadata": {},
   "source": [
    "__Question 10: Fix Zip Codes__\n",
    "* Some of the recipient zip codes have 5 numbers while others have 9 numbers.\n",
    "* Clean the recipient zip codes so that they only contain 5 numbers"
   ]
  },
  {
   "cell_type": "code",
   "execution_count": 17,
   "metadata": {
    "collapsed": false
   },
   "outputs": [],
   "source": [
    "# Answer question 10:\n"
   ]
  },
  {
   "cell_type": "markdown",
   "metadata": {},
   "source": [
    "__Question 11: What does party matter anyways?__\n",
    "* Does party actually provide any information?\n",
    "* If not, delete the column from the prez_df DataFrame"
   ]
  },
  {
   "cell_type": "code",
   "execution_count": 18,
   "metadata": {
    "collapsed": true
   },
   "outputs": [],
   "source": [
    "# Answer question 11:\n"
   ]
  },
  {
   "cell_type": "markdown",
   "metadata": {},
   "source": [
    "__Question 12: Which recipients provided the most money?__\n",
    "* Sort the dataframe by disb_amt and find the top 10 largest recipients"
   ]
  },
  {
   "cell_type": "code",
   "execution_count": 19,
   "metadata": {
    "collapsed": false
   },
   "outputs": [],
   "source": [
    "# Answer question 12:\n"
   ]
  },
  {
   "cell_type": "markdown",
   "metadata": {},
   "source": [
    "__Question 13: Which Democrat spent the most money? Prove it!__\n",
    "* Bernard Sanders and Hillary Rodham Clinton were the top two candidates in the 2016 Presidential Race. \n",
    "* Form a hypothesis about which candidate spent more money\n",
    "* Test your hypothesis (Hint: Use a t-test to prove your hypothesis and add confidence to your results)"
   ]
  },
  {
   "cell_type": "code",
   "execution_count": 20,
   "metadata": {
    "collapsed": true
   },
   "outputs": [],
   "source": [
    "# Answer question 13:\n"
   ]
  },
  {
   "cell_type": "markdown",
   "metadata": {},
   "source": [
    "__Question 14: What states are these now?__\n",
    "* Check each of the unique values of states\n",
    "* Remove any strange values from the prez_df"
   ]
  },
  {
   "cell_type": "code",
   "execution_count": 21,
   "metadata": {
    "collapsed": true
   },
   "outputs": [],
   "source": [
    "# Answer question 14:\n"
   ]
  },
  {
   "cell_type": "markdown",
   "metadata": {},
   "source": [
    "__Question 15: What states were most visited by which canadidates?__\n",
    "* Hint 1: Calculate number of visits to each state by each candidate\n",
    "* Hint 2: Use a clustermap to identify the states that were most commonly visited by individual candidates"
   ]
  },
  {
   "cell_type": "code",
   "execution_count": 22,
   "metadata": {
    "collapsed": true
   },
   "outputs": [],
   "source": [
    "# Answer question 15:\n"
   ]
  }
 ],
 "metadata": {
  "kernelspec": {
   "display_name": "Python 3",
   "language": "python",
   "name": "python3"
  },
  "language_info": {
   "codemirror_mode": {
    "name": "ipython",
    "version": 3
   },
   "file_extension": ".py",
   "mimetype": "text/x-python",
   "name": "python",
   "nbconvert_exporter": "python",
   "pygments_lexer": "ipython3",
   "version": "3.6.0"
  }
 },
 "nbformat": 4,
 "nbformat_minor": 2
}
