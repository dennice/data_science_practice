{
 "cells": [
  {
   "cell_type": "markdown",
   "metadata": {},
   "source": [
    "### The goal of this quiz is to practice using python to do data wrangling, reporting, basic statistics and visualization"
   ]
  },
  {
   "cell_type": "markdown",
   "metadata": {},
   "source": [
    " __Question 1: import some basic python packages in the following way__\n",
    " \n",
    " * import the pandas package and call it pd\n",
    " * import the numpy package and call it np\n",
    " * import the pyplot module from matplotlb and call it plt\n",
    " * import the seaborn package and call it sns"
   ]
  },
  {
   "cell_type": "code",
   "execution_count": 1,
   "metadata": {
    "collapsed": true
   },
   "outputs": [],
   "source": [
    "# answer question 1 \n",
    "import pandas as pd\n",
    "import numpy as np\n",
    "\n"
   ]
  },
  {
   "cell_type": "markdown",
   "metadata": {},
   "source": [
    "__Question 2: read the csv file '2016_presidential_candidate_expenditures.csv' using pandas__ \n",
    "Be sure to give this dataframe a name so you can use it later\n",
    "\n",
    "( hint: use the 'tab' key to help navigate between different functions and directories)\n",
    "\n"
   ]
  },
  {
   "cell_type": "code",
   "execution_count": 9,
   "metadata": {
    "collapsed": true
   },
   "outputs": [],
   "source": [
    "# answer question 2\n"
   ]
  },
  {
   "cell_type": "markdown",
   "metadata": {},
   "source": [
    "__Question 3: find the following basic information ___\n",
    "* a) list all the columns for this data frame (hint: use the 'columns' attribute)\n",
    "* b) how many records are there?\n",
    "* c) what does the first 3 rows and the last 3 rows look like? \n"
   ]
  },
  {
   "cell_type": "code",
   "execution_count": 10,
   "metadata": {
    "collapsed": false
   },
   "outputs": [],
   "source": [
    "# answer question 3 a\n",
    "\n",
    "\n",
    "# answer question 3 b \n",
    "\n",
    "# answer question 3 c \n",
    "# first 3 rows:\n",
    "\n",
    "\n",
    "# last 3 rows:\n"
   ]
  },
  {
   "cell_type": "markdown",
   "metadata": {},
   "source": [
    "__Question 4: (getting to know your data)__\n",
    "\n",
    "list the type of each column for this data set. What does each column look like to you? "
   ]
  },
  {
   "cell_type": "code",
   "execution_count": 11,
   "metadata": {
    "collapsed": true
   },
   "outputs": [],
   "source": [
    "## answer question 4:\n"
   ]
  },
  {
   "cell_type": "markdown",
   "metadata": {},
   "source": [
    "__Question 5:__\n",
    "For this question, we're going to introduce the set() function. What set() does is it returns the unique elements of a list. For example, if df is a dataframe with columns 'A', 'B' and 'C'. Then set(df['A']) would return all the unique elements in column A of df. \n",
    "\n",
    "__Now, using set( ), who are all the candidates in this data frame?__\n"
   ]
  },
  {
   "cell_type": "code",
   "execution_count": 12,
   "metadata": {
    "collapsed": false
   },
   "outputs": [],
   "source": [
    "# answer question 5:\n",
    "\n"
   ]
  },
  {
   "cell_type": "markdown",
   "metadata": {
    "collapsed": true
   },
   "source": [
    "__Question 6 - 8 : For question 6-8, you'll be using a subset of the data (let's call it spending_by_prez) by taking only the columns that contain the candidates name and the amount of money he/she spent__\n"
   ]
  },
  {
   "cell_type": "code",
   "execution_count": 13,
   "metadata": {
    "collapsed": false
   },
   "outputs": [],
   "source": [
    "# Question 6: \n"
   ]
  },
  {
   "cell_type": "markdown",
   "metadata": {},
   "source": [
    "__Question 7: using the data frame you defined above, check  the following: __\n",
    "\n",
    "* What is the average, median, max and min spending? \n",
    "* how many entries have negative dolloar amount?\n"
   ]
  },
  {
   "cell_type": "code",
   "execution_count": 14,
   "metadata": {
    "collapsed": false
   },
   "outputs": [],
   "source": [
    "# Answer question 7: \n"
   ]
  },
  {
   "cell_type": "markdown",
   "metadata": {
    "collapsed": false
   },
   "source": [
    "__Question 8 : (visualization) using the barplot function from seaborn and the dataframe you just created in question 6, plot the amount of money spent by each candidate.__ \n",
    "\n",
    "hint 1: the format should look like this : sns.barplot(x='some_column',y='some_column',data=your_data\n",
    "\n",
    "hint 2: If the x values of your plot looks crowded, try changing the order of x and y (e.g. x = $, y = candidates) \n",
    "\n",
    "hint 3: To make the plot look larger, you can also add : plt.figure(figsize=(w,h)), where w and h are your choices and width and height parameters of your figure"
   ]
  },
  {
   "cell_type": "code",
   "execution_count": 15,
   "metadata": {
    "collapsed": false
   },
   "outputs": [],
   "source": [
    "# Answer question 8:\n"
   ]
  },
  {
   "cell_type": "markdown",
   "metadata": {},
   "source": [
    "__Question 9: back to your original dataframe__\n",
    "\n",
    "* in the 'memo_txt' column, what do the values look like?\n",
    "* let's fill those strange values with the label 'Unknown'\n"
   ]
  },
  {
   "cell_type": "code",
   "execution_count": 16,
   "metadata": {
    "collapsed": false
   },
   "outputs": [],
   "source": [
    "# Answer question 9:\n"
   ]
  },
  {
   "cell_type": "markdown",
   "metadata": {},
   "source": [
    "__Question 10: Fix Zip Codes__\n",
    "* Some of the recipient zip codes have 5 numbers while others have 9 numbers.\n",
    "* Clean the recipient zip codes so that they only contain 5 numbers"
   ]
  },
  {
   "cell_type": "code",
   "execution_count": 17,
   "metadata": {
    "collapsed": false
   },
   "outputs": [],
   "source": [
    "# Answer question 10:\n"
   ]
  },
  {
   "cell_type": "markdown",
   "metadata": {},
   "source": [
    "__Question 11: What does party matter anyways?__\n",
    "* Does party actually provide any information?\n",
    "* If not, delete the column from the prez_df DataFrame"
   ]
  },
  {
   "cell_type": "code",
   "execution_count": 18,
   "metadata": {
    "collapsed": true
   },
   "outputs": [],
   "source": [
    "# Answer question 11:\n"
   ]
  },
  {
   "cell_type": "markdown",
   "metadata": {},
   "source": [
    "__Question 12: Which recipients provided the most money?__\n",
    "* Sort the dataframe by disb_amt and find the top 10 largest recipients"
   ]
  },
  {
   "cell_type": "code",
   "execution_count": 19,
   "metadata": {
    "collapsed": false
   },
   "outputs": [],
   "source": [
    "# Answer question 12:\n"
   ]
  },
  {
   "cell_type": "markdown",
   "metadata": {},
   "source": [
    "__Question 13: Which Democrat spent the most money? Prove it!__\n",
    "* Bernard Sanders and Hillary Rodham Clinton were the top two candidates in the 2016 Presidential Race. \n",
    "* Form a hypothesis about which candidate spent more money\n",
    "* Test your hypothesis (Hint: Use a t-test to prove your hypothesis and add confidence to your results)"
   ]
  },
  {
   "cell_type": "code",
   "execution_count": 20,
   "metadata": {
    "collapsed": true
   },
   "outputs": [],
   "source": [
    "# Answer question 13:\n"
   ]
  },
  {
   "cell_type": "markdown",
   "metadata": {},
   "source": [
    "__Question 14: What states are these now?__\n",
    "* Check each of the unique values of states\n",
    "* Remove any strange values from the prez_df"
   ]
  },
  {
   "cell_type": "code",
   "execution_count": 21,
   "metadata": {
    "collapsed": true
   },
   "outputs": [],
   "source": [
    "# Answer question 14:\n"
   ]
  },
  {
   "cell_type": "markdown",
   "metadata": {},
   "source": [
    "__Question 15: What states were most visited by which canadidates?__\n",
    "* Hint 1: Calculate number of visits to each state by each candidate\n",
    "* Hint 2: Use a clustermap to identify the states that were most commonly visited by individual candidates"
   ]
  },
  {
   "cell_type": "code",
   "execution_count": 22,
   "metadata": {
    "collapsed": true
   },
   "outputs": [],
   "source": [
    "# Answer question 15:\n"
   ]
  }
 ],
 "metadata": {
  "kernelspec": {
   "display_name": "Python 3",
   "language": "python",
   "name": "python3"
  },
  "language_info": {
   "codemirror_mode": {
    "name": "ipython",
    "version": 3
   },
   "file_extension": ".py",
   "mimetype": "text/x-python",
   "name": "python",
   "nbconvert_exporter": "python",
   "pygments_lexer": "ipython3",
   "version": "3.6.0"
  }
 },
 "nbformat": 4,
 "nbformat_minor": 2
}
