{
 "cells": [
  {
   "cell_type": "markdown",
   "metadata": {},
   "source": [
    "### The goal of this quiz is to practice using python to do data wrangling, reporting, basic statistics and visualization"
   ]
  },
  {
   "cell_type": "markdown",
   "metadata": {},
   "source": [
    " __Question 1: import some basic python packages in the following way__\n",
    " \n",
    " * import the pandas package and call it pd\n",
    " * import the numpy package and call it np\n",
    " * import the pyplot module from matplotlb and call it plt\n",
    " * import the seaborn package and call it sns"
   ]
  },
  {
   "cell_type": "code",
   "execution_count": 1,
   "metadata": {
    "collapsed": true
   },
   "outputs": [],
   "source": [
    "# answer question 1 \n",
    "import pandas as pd\n",
    "from matplotlib import pyplot as plt\n",
    "import numpy as np\n",
    "import seaborn as sns \n",
    "\n",
    "%matplotlib inline"
   ]
  },
  {
   "cell_type": "markdown",
   "metadata": {},
   "source": [
    "__Question 2: read the csv file '2016_presidential_candidate_expenditures.csv' using pandas__ \n",
    "Be sure to give this dataframe a name so you can use it later\n",
    "\n",
    "( hint: use the 'tab' key to help navigate between different functions and directories)\n",
    "\n"
   ]
  },
  {
   "cell_type": "code",
   "execution_count": 2,
   "metadata": {
    "collapsed": false
   },
   "outputs": [],
   "source": [
    "# answer question 2\n",
    "\n",
    "prez_df=pd.read_csv('/Users/scheo/Documents/PythonPractice/sample_data/2016_presidential_candidate_expenditures.csv')"
   ]
  },
  {
   "cell_type": "markdown",
   "metadata": {},
   "source": [
    "__Question 3: find the following basic information ___\n",
    "* a) list all the columns for this data frame (hint: use the 'columns' attribute)\n",
    "* b) how many records are there?\n",
    "* c) what does the first 3 rows and the last 3 rows look like? \n"
   ]
  },
  {
   "cell_type": "code",
   "execution_count": 3,
   "metadata": {
    "collapsed": false
   },
   "outputs": [
    {
     "data": {
      "text/html": [
       "<div>\n",
       "<table border=\"1\" class=\"dataframe\">\n",
       "  <thead>\n",
       "    <tr style=\"text-align: right;\">\n",
       "      <th></th>\n",
       "      <th>cmte_id</th>\n",
       "      <th>cand_id</th>\n",
       "      <th>cand_nm</th>\n",
       "      <th>Party</th>\n",
       "      <th>recipient_nm</th>\n",
       "      <th>disb_amt</th>\n",
       "      <th>disb_dt</th>\n",
       "      <th>recipient_city</th>\n",
       "      <th>recipient_st</th>\n",
       "      <th>recipient_zip</th>\n",
       "      <th>disb_desc</th>\n",
       "      <th>memo_cd</th>\n",
       "      <th>memo_text</th>\n",
       "      <th>form_tp</th>\n",
       "      <th>file_num</th>\n",
       "      <th>tran_id</th>\n",
       "      <th>election_tp</th>\n",
       "    </tr>\n",
       "  </thead>\n",
       "  <tbody>\n",
       "    <tr>\n",
       "      <th>159923</th>\n",
       "      <td>C00605568</td>\n",
       "      <td>P20002671</td>\n",
       "      <td>Johnson, Gary</td>\n",
       "      <td>#REF!</td>\n",
       "      <td>DB CAPITOL STRATEGIES</td>\n",
       "      <td>2000.00</td>\n",
       "      <td>18-Feb-16</td>\n",
       "      <td>ALEXANDRIA</td>\n",
       "      <td>VA</td>\n",
       "      <td>22314</td>\n",
       "      <td>LEGAL FEES</td>\n",
       "      <td>NaN</td>\n",
       "      <td>NaN</td>\n",
       "      <td>SB23</td>\n",
       "      <td>1056842</td>\n",
       "      <td>SB23.10125</td>\n",
       "      <td>P2016</td>\n",
       "    </tr>\n",
       "    <tr>\n",
       "      <th>159924</th>\n",
       "      <td>C00605568</td>\n",
       "      <td>P20002671</td>\n",
       "      <td>Johnson, Gary</td>\n",
       "      <td>#REF!</td>\n",
       "      <td>DB CAPITOL STRATEGIES</td>\n",
       "      <td>2000.00</td>\n",
       "      <td>27-Jan-16</td>\n",
       "      <td>ALEXANDRIA</td>\n",
       "      <td>VA</td>\n",
       "      <td>22314</td>\n",
       "      <td>LEGAL FEES</td>\n",
       "      <td>NaN</td>\n",
       "      <td>NaN</td>\n",
       "      <td>SB23</td>\n",
       "      <td>1051588</td>\n",
       "      <td>SB23.4118</td>\n",
       "      <td>P2016</td>\n",
       "    </tr>\n",
       "    <tr>\n",
       "      <th>159925</th>\n",
       "      <td>C00605568</td>\n",
       "      <td>P20002671</td>\n",
       "      <td>Johnson, Gary</td>\n",
       "      <td>#REF!</td>\n",
       "      <td>CRAIG, ANDY</td>\n",
       "      <td>781.25</td>\n",
       "      <td>18-Mar-16</td>\n",
       "      <td>MILWAUKEE</td>\n",
       "      <td>WI</td>\n",
       "      <td>53222</td>\n",
       "      <td>CAMPAIGN CONSULTING</td>\n",
       "      <td>NaN</td>\n",
       "      <td>NaN</td>\n",
       "      <td>SB23</td>\n",
       "      <td>1066293</td>\n",
       "      <td>SB23.13665</td>\n",
       "      <td>P2016</td>\n",
       "    </tr>\n",
       "  </tbody>\n",
       "</table>\n",
       "</div>"
      ],
      "text/plain": [
       "          cmte_id    cand_id        cand_nm  Party           recipient_nm  \\\n",
       "159923  C00605568  P20002671  Johnson, Gary  #REF!  DB CAPITOL STRATEGIES   \n",
       "159924  C00605568  P20002671  Johnson, Gary  #REF!  DB CAPITOL STRATEGIES   \n",
       "159925  C00605568  P20002671  Johnson, Gary  #REF!            CRAIG, ANDY   \n",
       "\n",
       "        disb_amt    disb_dt recipient_city recipient_st recipient_zip  \\\n",
       "159923   2000.00  18-Feb-16     ALEXANDRIA           VA         22314   \n",
       "159924   2000.00  27-Jan-16     ALEXANDRIA           VA         22314   \n",
       "159925    781.25  18-Mar-16      MILWAUKEE           WI         53222   \n",
       "\n",
       "                  disb_desc memo_cd memo_text form_tp  file_num     tran_id  \\\n",
       "159923           LEGAL FEES     NaN       NaN    SB23   1056842  SB23.10125   \n",
       "159924           LEGAL FEES     NaN       NaN    SB23   1051588   SB23.4118   \n",
       "159925  CAMPAIGN CONSULTING     NaN       NaN    SB23   1066293  SB23.13665   \n",
       "\n",
       "       election_tp  \n",
       "159923       P2016  \n",
       "159924       P2016  \n",
       "159925       P2016  "
      ]
     },
     "execution_count": 3,
     "metadata": {},
     "output_type": "execute_result"
    }
   ],
   "source": [
    "# answer question 3 a\n",
    "prez_df.columns\n",
    "\n",
    "# answer question 3 b \n",
    "len(prez_df)\n",
    "\n",
    "# answer question 3 c \n",
    "# first 3 rows:\n",
    "prez_df.head(3)\n",
    "\n",
    "# last 3 rows:\n",
    "prez_df.tail(3)"
   ]
  },
  {
   "cell_type": "markdown",
   "metadata": {},
   "source": [
    "__Question 4: (getting to know your data)__\n",
    "\n",
    "list the type of each column for this data set. What does each column look like to you? "
   ]
  },
  {
   "cell_type": "code",
   "execution_count": 4,
   "metadata": {
    "collapsed": false
   },
   "outputs": [
    {
     "name": "stdout",
     "output_type": "stream",
     "text": [
      "<class 'pandas.core.frame.DataFrame'>\n",
      "RangeIndex: 159926 entries, 0 to 159925\n",
      "Data columns (total 17 columns):\n",
      "cmte_id           159926 non-null object\n",
      "cand_id           159926 non-null object\n",
      "cand_nm           159926 non-null object\n",
      "Party             159926 non-null object\n",
      "recipient_nm      159926 non-null object\n",
      "disb_amt          159926 non-null float64\n",
      "disb_dt           159926 non-null object\n",
      "recipient_city    159905 non-null object\n",
      "recipient_st      159926 non-null object\n",
      "recipient_zip     159862 non-null object\n",
      "disb_desc         159891 non-null object\n",
      "memo_cd           96680 non-null object\n",
      "memo_text         17812 non-null object\n",
      "form_tp           159926 non-null object\n",
      "file_num          159926 non-null int64\n",
      "tran_id           159926 non-null object\n",
      "election_tp       119169 non-null object\n",
      "dtypes: float64(1), int64(1), object(15)\n",
      "memory usage: 20.7+ MB\n"
     ]
    }
   ],
   "source": [
    "## answer question 4:\n",
    "prez_df.info()"
   ]
  },
  {
   "cell_type": "markdown",
   "metadata": {},
   "source": [
    "__Question 5:__\n",
    "For this question, we're going to introduce the set() function. What set() does is it returns the unique elements of a list. For example, if df is a dataframe with columns 'A', 'B' and 'C'. Then set(df['A']) would return all the unique elements in column A of df. \n",
    "\n",
    "__Now, using set( ), who are all the candidates in this data frame?__\n"
   ]
  },
  {
   "cell_type": "code",
   "execution_count": 5,
   "metadata": {
    "collapsed": false
   },
   "outputs": [
    {
     "data": {
      "text/plain": [
       "{'Bush, Jeb',\n",
       " 'Carson, Benjamin S.',\n",
       " 'Christie, Christopher J.',\n",
       " 'Clinton, Hillary Rodham',\n",
       " \"Cruz, Rafael Edward 'Ted'\",\n",
       " 'Fiorina, Carly',\n",
       " 'Gilmore, James S IIII',\n",
       " 'Graham, Lindsey O.',\n",
       " 'Huckabee, Mike',\n",
       " 'Jindal, Bobby',\n",
       " 'Johnson, Gary',\n",
       " 'Kasich, John R.',\n",
       " 'Lessig, Lawrence',\n",
       " \"O'Malley, Martin Joseph\",\n",
       " 'Pataki, George E.',\n",
       " 'Paul, Rand',\n",
       " 'Perry, James R. (Rick)',\n",
       " 'Rubio, Marco',\n",
       " 'Sanders, Bernard',\n",
       " 'Santorum, Richard J.',\n",
       " 'Stein, Jill',\n",
       " 'Trump, Donald J.',\n",
       " 'Walker, Scott',\n",
       " 'Webb, James Henry Jr.'}"
      ]
     },
     "execution_count": 5,
     "metadata": {},
     "output_type": "execute_result"
    }
   ],
   "source": [
    "# answer question 5:\n",
    "\n",
    "set(prez_df['cand_nm'])"
   ]
  },
  {
   "cell_type": "markdown",
   "metadata": {
    "collapsed": true
   },
   "source": [
    "__Question 6 - 8 : For question 6-8, you'll be using a subset of the data (let's call it spending_by_prez) by taking only the columns that contain the candidates name and the amount of money he/she spent__\n"
   ]
  },
  {
   "cell_type": "code",
   "execution_count": 6,
   "metadata": {
    "collapsed": false
   },
   "outputs": [],
   "source": [
    "# Question 6: \n",
    "\n",
    "spending_by_prez=prez_df[['cand_nm','disb_amt']]"
   ]
  },
  {
   "cell_type": "markdown",
   "metadata": {},
   "source": [
    "__Question 7: using the data frame you defined above, check  the following: __\n",
    "\n",
    "* What is the average, median, max and min spending? \n",
    "* how many entries have negative dolloar amount?\n"
   ]
  },
  {
   "cell_type": "code",
   "execution_count": 7,
   "metadata": {
    "collapsed": false
   },
   "outputs": [
    {
     "name": "stdout",
     "output_type": "stream",
     "text": [
      "The average spending amount is :  4118.9047917795715\n",
      "The max spending amount is :  6119501.34\n",
      "The minimum spending amount is :  -64397.7\n",
      "There are 1717 records with negative dollar amount\n"
     ]
    },
    {
     "data": {
      "text/html": [
       "<div>\n",
       "<table border=\"1\" class=\"dataframe\">\n",
       "  <thead>\n",
       "    <tr style=\"text-align: right;\">\n",
       "      <th></th>\n",
       "      <th>cand_nm</th>\n",
       "      <th>disb_amt</th>\n",
       "    </tr>\n",
       "  </thead>\n",
       "  <tbody>\n",
       "    <tr>\n",
       "      <th>101178</th>\n",
       "      <td>Sanders, Bernard</td>\n",
       "      <td>6119501.34</td>\n",
       "    </tr>\n",
       "  </tbody>\n",
       "</table>\n",
       "</div>"
      ],
      "text/plain": [
       "                 cand_nm    disb_amt\n",
       "101178  Sanders, Bernard  6119501.34"
      ]
     },
     "execution_count": 7,
     "metadata": {},
     "output_type": "execute_result"
    }
   ],
   "source": [
    "# Answer question 7: \n",
    "\n",
    "#define length of negative dollar amount, the answer is an integer value \n",
    "neg_entry=len(spending_by_prez[spending_by_prez['disb_amt']<0])\n",
    "# use the 'str' function to convert integer to string so we can print it\n",
    "print('The average spending amount is : ', str(spending_by_prez['disb_amt'].mean()))\n",
    "print('The max spending amount is : ', str(spending_by_prez['disb_amt'].max()))\n",
    "print('The minimum spending amount is : ', str(spending_by_prez['disb_amt'].min()))\n",
    "print( 'There are '+ str(neg_entry) + ' records with negative dollar amount')\n",
    "\n",
    "# who spent so much??\n",
    "spending_by_prez[spending_by_prez['disb_amt']==spending_by_prez['disb_amt'].max()]"
   ]
  },
  {
   "cell_type": "markdown",
   "metadata": {
    "collapsed": false
   },
   "source": [
    "__Question 8 : (visualization) using the barplot function from seaborn and the dataframe you just created in question 6, plot the amount of money spent by each candidate.__ \n",
    "\n",
    "hint 1: the format should look like this : sns.barplot(x='some_column',y='some_column',data=your_data\n",
    "\n",
    "hint 2: If the x values of your plot looks crowded, try changing the order of x and y (e.g. x = $, y = candidates) \n",
    "\n",
    "hint 3: To make the plot look larger, you can also add : plt.figure(figsize=(w,h)), where w and h are your choices and width and height parameters of your figure"
   ]
  },
  {
   "cell_type": "code",
   "execution_count": 8,
   "metadata": {
    "collapsed": false
   },
   "outputs": [
    {
     "data": {
      "text/plain": [
       "<matplotlib.axes._subplots.AxesSubplot at 0x11225bda0>"
      ]
     },
     "execution_count": 8,
     "metadata": {},
     "output_type": "execute_result"
    },
    {
     "data": {
      "image/png": "[encoded data removed]",
      "text/plain": [
       "<matplotlib.figure.Figure at 0x11225b6a0>"
      ]
     },
     "metadata": {},
     "output_type": "display_data"
    }
   ],
   "source": [
    "# Answer question 8:\n",
    "fig=plt.figure(figsize=(10,10))\n",
    "sns.barplot(y='cand_nm',x='disb_amt',data=spending_by_prez)\n"
   ]
  },
  {
   "cell_type": "markdown",
   "metadata": {},
   "source": [
    "__Question 9: back to your original dataframe__\n",
    "\n",
    "* in the 'memo_txt' column, what do the values look like?\n",
    "* let's fill those strange values with the label 'Unknown'\n"
   ]
  },
  {
   "cell_type": "code",
   "execution_count": 9,
   "metadata": {
    "collapsed": false
   },
   "outputs": [
    {
     "data": {
      "text/html": [
       "<div>\n",
       "<table border=\"1\" class=\"dataframe\">\n",
       "  <thead>\n",
       "    <tr style=\"text-align: right;\">\n",
       "      <th></th>\n",
       "      <th>cmte_id</th>\n",
       "      <th>cand_id</th>\n",
       "      <th>cand_nm</th>\n",
       "      <th>Party</th>\n",
       "      <th>recipient_nm</th>\n",
       "      <th>disb_amt</th>\n",
       "      <th>disb_dt</th>\n",
       "      <th>recipient_city</th>\n",
       "      <th>recipient_st</th>\n",
       "      <th>recipient_zip</th>\n",
       "      <th>disb_desc</th>\n",
       "      <th>memo_cd</th>\n",
       "      <th>memo_text</th>\n",
       "      <th>form_tp</th>\n",
       "      <th>file_num</th>\n",
       "      <th>tran_id</th>\n",
       "      <th>election_tp</th>\n",
       "    </tr>\n",
       "  </thead>\n",
       "  <tbody>\n",
       "    <tr>\n",
       "      <th>0</th>\n",
       "      <td>C00458844</td>\n",
       "      <td>P60006723</td>\n",
       "      <td>Rubio, Marco</td>\n",
       "      <td>#REF!</td>\n",
       "      <td>GREEN, PERRY MR.</td>\n",
       "      <td>500.00</td>\n",
       "      <td>15-Sep-15</td>\n",
       "      <td>ANCHORAGE</td>\n",
       "      <td>AK</td>\n",
       "      <td>995084442</td>\n",
       "      <td>IN-KIND CONTRIBUTION</td>\n",
       "      <td>NaN</td>\n",
       "      <td>IN KIND: FACILITY RENTAL</td>\n",
       "      <td>SB23</td>\n",
       "      <td>1031526</td>\n",
       "      <td>SB23.831217</td>\n",
       "      <td>P2016</td>\n",
       "    </tr>\n",
       "    <tr>\n",
       "      <th>1</th>\n",
       "      <td>C00458844</td>\n",
       "      <td>P60006723</td>\n",
       "      <td>Rubio, Marco</td>\n",
       "      <td>#REF!</td>\n",
       "      <td>ALASKA REPUBLICAN PARTY</td>\n",
       "      <td>2500.00</td>\n",
       "      <td>16-Nov-15</td>\n",
       "      <td>ANCHORAGE</td>\n",
       "      <td>AK</td>\n",
       "      <td>99503</td>\n",
       "      <td>BALLOT ACCESS</td>\n",
       "      <td>NaN</td>\n",
       "      <td>Unknown</td>\n",
       "      <td>SB23</td>\n",
       "      <td>1047126</td>\n",
       "      <td>SB23.I14767</td>\n",
       "      <td>NaN</td>\n",
       "    </tr>\n",
       "    <tr>\n",
       "      <th>2</th>\n",
       "      <td>C00458844</td>\n",
       "      <td>P60006723</td>\n",
       "      <td>Rubio, Marco</td>\n",
       "      <td>#REF!</td>\n",
       "      <td>JOHNSON, MARK</td>\n",
       "      <td>1000.00</td>\n",
       "      <td>30-Sep-15</td>\n",
       "      <td>ANCHORAGE</td>\n",
       "      <td>AK</td>\n",
       "      <td>995163436</td>\n",
       "      <td>IN-KIND CONTRIBUTION</td>\n",
       "      <td>NaN</td>\n",
       "      <td>IN KIND: BUMPER STICKERS SIGNS AND BUTTONS</td>\n",
       "      <td>SB23</td>\n",
       "      <td>1031526</td>\n",
       "      <td>SB23.831218</td>\n",
       "      <td>P2016</td>\n",
       "    </tr>\n",
       "    <tr>\n",
       "      <th>3</th>\n",
       "      <td>C00458844</td>\n",
       "      <td>P60006723</td>\n",
       "      <td>Rubio, Marco</td>\n",
       "      <td>#REF!</td>\n",
       "      <td>ENTERPRISE</td>\n",
       "      <td>336.09</td>\n",
       "      <td>18-Dec-15</td>\n",
       "      <td>BIRMINGHAM</td>\n",
       "      <td>AL</td>\n",
       "      <td>352124572</td>\n",
       "      <td>CAR RENTAL</td>\n",
       "      <td>X</td>\n",
       "      <td>Unknown</td>\n",
       "      <td>SB23</td>\n",
       "      <td>1047126</td>\n",
       "      <td>SB23.I15112</td>\n",
       "      <td>NaN</td>\n",
       "    </tr>\n",
       "    <tr>\n",
       "      <th>4</th>\n",
       "      <td>C00458844</td>\n",
       "      <td>P60006723</td>\n",
       "      <td>Rubio, Marco</td>\n",
       "      <td>#REF!</td>\n",
       "      <td>ALABAMA REPUBLICAN PARTY</td>\n",
       "      <td>10000.00</td>\n",
       "      <td>22-Oct-15</td>\n",
       "      <td>BIRMINGHAM</td>\n",
       "      <td>AL</td>\n",
       "      <td>35216</td>\n",
       "      <td>BALLOT ACCESS</td>\n",
       "      <td>NaN</td>\n",
       "      <td>Unknown</td>\n",
       "      <td>SB23</td>\n",
       "      <td>1047126</td>\n",
       "      <td>SB23.I14766</td>\n",
       "      <td>NaN</td>\n",
       "    </tr>\n",
       "  </tbody>\n",
       "</table>\n",
       "</div>"
      ],
      "text/plain": [
       "     cmte_id    cand_id       cand_nm  Party              recipient_nm  \\\n",
       "0  C00458844  P60006723  Rubio, Marco  #REF!          GREEN, PERRY MR.   \n",
       "1  C00458844  P60006723  Rubio, Marco  #REF!   ALASKA REPUBLICAN PARTY   \n",
       "2  C00458844  P60006723  Rubio, Marco  #REF!             JOHNSON, MARK   \n",
       "3  C00458844  P60006723  Rubio, Marco  #REF!                ENTERPRISE   \n",
       "4  C00458844  P60006723  Rubio, Marco  #REF!  ALABAMA REPUBLICAN PARTY   \n",
       "\n",
       "   disb_amt    disb_dt recipient_city recipient_st recipient_zip  \\\n",
       "0    500.00  15-Sep-15      ANCHORAGE           AK     995084442   \n",
       "1   2500.00  16-Nov-15      ANCHORAGE           AK         99503   \n",
       "2   1000.00  30-Sep-15      ANCHORAGE           AK     995163436   \n",
       "3    336.09  18-Dec-15     BIRMINGHAM           AL     352124572   \n",
       "4  10000.00  22-Oct-15     BIRMINGHAM           AL         35216   \n",
       "\n",
       "              disb_desc memo_cd                                   memo_text  \\\n",
       "0  IN-KIND CONTRIBUTION     NaN                    IN KIND: FACILITY RENTAL   \n",
       "1         BALLOT ACCESS     NaN                                     Unknown   \n",
       "2  IN-KIND CONTRIBUTION     NaN  IN KIND: BUMPER STICKERS SIGNS AND BUTTONS   \n",
       "3            CAR RENTAL       X                                     Unknown   \n",
       "4         BALLOT ACCESS     NaN                                     Unknown   \n",
       "\n",
       "  form_tp  file_num      tran_id election_tp  \n",
       "0    SB23   1031526  SB23.831217       P2016  \n",
       "1    SB23   1047126  SB23.I14767         NaN  \n",
       "2    SB23   1031526  SB23.831218       P2016  \n",
       "3    SB23   1047126  SB23.I15112         NaN  \n",
       "4    SB23   1047126  SB23.I14766         NaN  "
      ]
     },
     "execution_count": 9,
     "metadata": {},
     "output_type": "execute_result"
    }
   ],
   "source": [
    "# Answer question 9:\n",
    "prez_df[\"memo_text\"] = prez_df[\"memo_text\"].fillna(\"Unknown\")\n",
    "prez_df.head()"
   ]
  },
  {
   "cell_type": "markdown",
   "metadata": {},
   "source": [
    "__Question 10: Fix Zip Codes__\n",
    "* Some of the recipient zip codes have 5 numbers while others have 9 numbers.\n",
    "* Clean the recipient zip codes so that they only contain 5 numbers"
   ]
  },
  {
   "cell_type": "code",
   "execution_count": 10,
   "metadata": {
    "collapsed": false
   },
   "outputs": [],
   "source": [
    "# Answer question 10:\n",
    "prez_df['recipient_zip'] = prez_df['recipient_zip'].apply(lambda x: str(x)[:5])\n"
   ]
  },
  {
   "cell_type": "markdown",
   "metadata": {},
   "source": [
    "__Question 11: What does party matter anyways?__\n",
    "* Does party actually provide any information?\n",
    "* If not, delete the column from the prez_df DataFrame"
   ]
  },
  {
   "cell_type": "code",
   "execution_count": 11,
   "metadata": {
    "collapsed": true
   },
   "outputs": [],
   "source": [
    "# Answer question 11:\n",
    "del prez_df['Party']"
   ]
  },
  {
   "cell_type": "markdown",
   "metadata": {},
   "source": [
    "__Question 12: Which recipients provided the most money?__\n",
    "* Sort the dataframe by disb_amt and find the top 10 largest recipients"
   ]
  },
  {
   "cell_type": "code",
   "execution_count": 12,
   "metadata": {
    "collapsed": false
   },
   "outputs": [
    {
     "name": "stderr",
     "output_type": "stream",
     "text": [
      "/Users/scheo/anaconda3/lib/python3.6/site-packages/ipykernel/__main__.py:2: FutureWarning: sort(columns=....) is deprecated, use sort_values(by=.....)\n",
      "  from ipykernel import kernelapp as app\n"
     ]
    },
    {
     "data": {
      "text/html": [
       "<div>\n",
       "<table border=\"1\" class=\"dataframe\">\n",
       "  <thead>\n",
       "    <tr style=\"text-align: right;\">\n",
       "      <th></th>\n",
       "      <th>cmte_id</th>\n",
       "      <th>cand_id</th>\n",
       "      <th>cand_nm</th>\n",
       "      <th>recipient_nm</th>\n",
       "      <th>disb_amt</th>\n",
       "      <th>disb_dt</th>\n",
       "      <th>recipient_city</th>\n",
       "      <th>recipient_st</th>\n",
       "      <th>recipient_zip</th>\n",
       "      <th>disb_desc</th>\n",
       "      <th>memo_cd</th>\n",
       "      <th>memo_text</th>\n",
       "      <th>form_tp</th>\n",
       "      <th>file_num</th>\n",
       "      <th>tran_id</th>\n",
       "      <th>election_tp</th>\n",
       "    </tr>\n",
       "  </thead>\n",
       "  <tbody>\n",
       "    <tr>\n",
       "      <th>101178</th>\n",
       "      <td>C00577130</td>\n",
       "      <td>P60007168</td>\n",
       "      <td>Sanders, Bernard</td>\n",
       "      <td>OLD TOWNE MEDIA</td>\n",
       "      <td>6119501.34</td>\n",
       "      <td>13-Jan-16</td>\n",
       "      <td>ALEXANDRIA</td>\n",
       "      <td>VA</td>\n",
       "      <td>22310</td>\n",
       "      <td>MEDIA BUY</td>\n",
       "      <td>NaN</td>\n",
       "      <td>Unknown</td>\n",
       "      <td>SB23</td>\n",
       "      <td>1051582</td>\n",
       "      <td>VPE83A0NK46</td>\n",
       "      <td>P2016</td>\n",
       "    </tr>\n",
       "    <tr>\n",
       "      <th>101119</th>\n",
       "      <td>C00577130</td>\n",
       "      <td>P60007168</td>\n",
       "      <td>Sanders, Bernard</td>\n",
       "      <td>OLD TOWNE MEDIA INC</td>\n",
       "      <td>6000000.00</td>\n",
       "      <td>9-Feb-16</td>\n",
       "      <td>ALEXANDRIA</td>\n",
       "      <td>VA</td>\n",
       "      <td>22310</td>\n",
       "      <td>MEDIA BUY</td>\n",
       "      <td>NaN</td>\n",
       "      <td>Unknown</td>\n",
       "      <td>SB23</td>\n",
       "      <td>1056899</td>\n",
       "      <td>VPE83A0NXY2</td>\n",
       "      <td>P2016</td>\n",
       "    </tr>\n",
       "    <tr>\n",
       "      <th>30115</th>\n",
       "      <td>C00574624</td>\n",
       "      <td>P60006111</td>\n",
       "      <td>Cruz, Rafael Edward 'Ted'</td>\n",
       "      <td>WESTROGERS LLC</td>\n",
       "      <td>5116968.21</td>\n",
       "      <td>23-Feb-16</td>\n",
       "      <td>MEMPHIS</td>\n",
       "      <td>TN</td>\n",
       "      <td>38119</td>\n",
       "      <td>MEDIA</td>\n",
       "      <td>NaN</td>\n",
       "      <td>Unknown</td>\n",
       "      <td>SB23</td>\n",
       "      <td>1056882</td>\n",
       "      <td>SB23.1354</td>\n",
       "      <td>NaN</td>\n",
       "    </tr>\n",
       "    <tr>\n",
       "      <th>101201</th>\n",
       "      <td>C00577130</td>\n",
       "      <td>P60007168</td>\n",
       "      <td>Sanders, Bernard</td>\n",
       "      <td>OLD TOWNE MEDIA INC</td>\n",
       "      <td>4424744.46</td>\n",
       "      <td>16-Feb-16</td>\n",
       "      <td>ALEXANDRIA</td>\n",
       "      <td>VA</td>\n",
       "      <td>22310</td>\n",
       "      <td>MEDIA BUY</td>\n",
       "      <td>NaN</td>\n",
       "      <td>Unknown</td>\n",
       "      <td>SB23</td>\n",
       "      <td>1056899</td>\n",
       "      <td>VPE83A0P2D9</td>\n",
       "      <td>P2016</td>\n",
       "    </tr>\n",
       "    <tr>\n",
       "      <th>101264</th>\n",
       "      <td>C00577130</td>\n",
       "      <td>P60007168</td>\n",
       "      <td>Sanders, Bernard</td>\n",
       "      <td>OLD TOWNE MEDIA</td>\n",
       "      <td>4096202.00</td>\n",
       "      <td>4-Jan-16</td>\n",
       "      <td>ALEXANDRIA</td>\n",
       "      <td>VA</td>\n",
       "      <td>22310</td>\n",
       "      <td>MEDIA BUY</td>\n",
       "      <td>NaN</td>\n",
       "      <td>Unknown</td>\n",
       "      <td>SB23</td>\n",
       "      <td>1051582</td>\n",
       "      <td>VPE83A0EN52</td>\n",
       "      <td>P2016</td>\n",
       "    </tr>\n",
       "    <tr>\n",
       "      <th>43283</th>\n",
       "      <td>C00575795</td>\n",
       "      <td>P00003392</td>\n",
       "      <td>Clinton, Hillary Rodham</td>\n",
       "      <td>GMMB</td>\n",
       "      <td>4093371.90</td>\n",
       "      <td>4-Mar-16</td>\n",
       "      <td>WASHINGTON</td>\n",
       "      <td>DC</td>\n",
       "      <td>20007</td>\n",
       "      <td>MEDIA BUY</td>\n",
       "      <td>NaN</td>\n",
       "      <td>Unknown</td>\n",
       "      <td>SB23</td>\n",
       "      <td>1066337</td>\n",
       "      <td>D181541</td>\n",
       "      <td>P2016</td>\n",
       "    </tr>\n",
       "    <tr>\n",
       "      <th>42467</th>\n",
       "      <td>C00575795</td>\n",
       "      <td>P00003392</td>\n",
       "      <td>Clinton, Hillary Rodham</td>\n",
       "      <td>GMMB</td>\n",
       "      <td>3733548.03</td>\n",
       "      <td>23-Feb-16</td>\n",
       "      <td>WASHINGTON</td>\n",
       "      <td>DC</td>\n",
       "      <td>20007</td>\n",
       "      <td>MEDIA BUY</td>\n",
       "      <td>NaN</td>\n",
       "      <td>Unknown</td>\n",
       "      <td>SB23</td>\n",
       "      <td>1056807</td>\n",
       "      <td>D163788</td>\n",
       "      <td>P2016</td>\n",
       "    </tr>\n",
       "    <tr>\n",
       "      <th>89639</th>\n",
       "      <td>C00577130</td>\n",
       "      <td>P60007168</td>\n",
       "      <td>Sanders, Bernard</td>\n",
       "      <td>REVOLUTION MESSAGING, LLC</td>\n",
       "      <td>3607900.08</td>\n",
       "      <td>4-Jan-16</td>\n",
       "      <td>WASHINGTON</td>\n",
       "      <td>DC</td>\n",
       "      <td>20036</td>\n",
       "      <td>DIGITAL CONSULTING &amp; AD BUY</td>\n",
       "      <td>NaN</td>\n",
       "      <td>Unknown</td>\n",
       "      <td>SB23</td>\n",
       "      <td>1051582</td>\n",
       "      <td>VPE83A0EN85</td>\n",
       "      <td>P2016</td>\n",
       "    </tr>\n",
       "    <tr>\n",
       "      <th>101003</th>\n",
       "      <td>C00577130</td>\n",
       "      <td>P60007168</td>\n",
       "      <td>Sanders, Bernard</td>\n",
       "      <td>OLD TOWNE MEDIA INC</td>\n",
       "      <td>3300000.00</td>\n",
       "      <td>4-Mar-16</td>\n",
       "      <td>ALEXANDRIA</td>\n",
       "      <td>VA</td>\n",
       "      <td>22310</td>\n",
       "      <td>MEDIA BUY</td>\n",
       "      <td>NaN</td>\n",
       "      <td>Unknown</td>\n",
       "      <td>SB23</td>\n",
       "      <td>1066425</td>\n",
       "      <td>VPE83A104C4</td>\n",
       "      <td>P2016</td>\n",
       "    </tr>\n",
       "    <tr>\n",
       "      <th>100977</th>\n",
       "      <td>C00577130</td>\n",
       "      <td>P60007168</td>\n",
       "      <td>Sanders, Bernard</td>\n",
       "      <td>OLD TOWNE MEDIA INC</td>\n",
       "      <td>3000000.00</td>\n",
       "      <td>10-Mar-16</td>\n",
       "      <td>ALEXANDRIA</td>\n",
       "      <td>VA</td>\n",
       "      <td>22310</td>\n",
       "      <td>MEDIA BUY</td>\n",
       "      <td>NaN</td>\n",
       "      <td>Unknown</td>\n",
       "      <td>SB23</td>\n",
       "      <td>1066425</td>\n",
       "      <td>VPE83A104G6</td>\n",
       "      <td>P2016</td>\n",
       "    </tr>\n",
       "  </tbody>\n",
       "</table>\n",
       "</div>"
      ],
      "text/plain": [
       "          cmte_id    cand_id                    cand_nm  \\\n",
       "101178  C00577130  P60007168           Sanders, Bernard   \n",
       "101119  C00577130  P60007168           Sanders, Bernard   \n",
       "30115   C00574624  P60006111  Cruz, Rafael Edward 'Ted'   \n",
       "101201  C00577130  P60007168           Sanders, Bernard   \n",
       "101264  C00577130  P60007168           Sanders, Bernard   \n",
       "43283   C00575795  P00003392    Clinton, Hillary Rodham   \n",
       "42467   C00575795  P00003392    Clinton, Hillary Rodham   \n",
       "89639   C00577130  P60007168           Sanders, Bernard   \n",
       "101003  C00577130  P60007168           Sanders, Bernard   \n",
       "100977  C00577130  P60007168           Sanders, Bernard   \n",
       "\n",
       "                     recipient_nm    disb_amt    disb_dt recipient_city  \\\n",
       "101178            OLD TOWNE MEDIA  6119501.34  13-Jan-16     ALEXANDRIA   \n",
       "101119        OLD TOWNE MEDIA INC  6000000.00   9-Feb-16     ALEXANDRIA   \n",
       "30115              WESTROGERS LLC  5116968.21  23-Feb-16        MEMPHIS   \n",
       "101201        OLD TOWNE MEDIA INC  4424744.46  16-Feb-16     ALEXANDRIA   \n",
       "101264            OLD TOWNE MEDIA  4096202.00   4-Jan-16     ALEXANDRIA   \n",
       "43283                        GMMB  4093371.90   4-Mar-16     WASHINGTON   \n",
       "42467                        GMMB  3733548.03  23-Feb-16     WASHINGTON   \n",
       "89639   REVOLUTION MESSAGING, LLC  3607900.08   4-Jan-16     WASHINGTON   \n",
       "101003        OLD TOWNE MEDIA INC  3300000.00   4-Mar-16     ALEXANDRIA   \n",
       "100977        OLD TOWNE MEDIA INC  3000000.00  10-Mar-16     ALEXANDRIA   \n",
       "\n",
       "       recipient_st recipient_zip                    disb_desc memo_cd  \\\n",
       "101178           VA         22310                    MEDIA BUY     NaN   \n",
       "101119           VA         22310                    MEDIA BUY     NaN   \n",
       "30115            TN         38119                        MEDIA     NaN   \n",
       "101201           VA         22310                    MEDIA BUY     NaN   \n",
       "101264           VA         22310                    MEDIA BUY     NaN   \n",
       "43283            DC         20007                    MEDIA BUY     NaN   \n",
       "42467            DC         20007                    MEDIA BUY     NaN   \n",
       "89639            DC         20036  DIGITAL CONSULTING & AD BUY     NaN   \n",
       "101003           VA         22310                    MEDIA BUY     NaN   \n",
       "100977           VA         22310                    MEDIA BUY     NaN   \n",
       "\n",
       "       memo_text form_tp  file_num      tran_id election_tp  \n",
       "101178   Unknown    SB23   1051582  VPE83A0NK46       P2016  \n",
       "101119   Unknown    SB23   1056899  VPE83A0NXY2       P2016  \n",
       "30115    Unknown    SB23   1056882    SB23.1354         NaN  \n",
       "101201   Unknown    SB23   1056899  VPE83A0P2D9       P2016  \n",
       "101264   Unknown    SB23   1051582  VPE83A0EN52       P2016  \n",
       "43283    Unknown    SB23   1066337      D181541       P2016  \n",
       "42467    Unknown    SB23   1056807      D163788       P2016  \n",
       "89639    Unknown    SB23   1051582  VPE83A0EN85       P2016  \n",
       "101003   Unknown    SB23   1066425  VPE83A104C4       P2016  \n",
       "100977   Unknown    SB23   1066425  VPE83A104G6       P2016  "
      ]
     },
     "execution_count": 12,
     "metadata": {},
     "output_type": "execute_result"
    }
   ],
   "source": [
    "# Answer question 12:\n",
    "prez_df.sort(['disb_amt','cand_nm'],ascending=False).head(10)"
   ]
  },
  {
   "cell_type": "markdown",
   "metadata": {},
   "source": [
    "__Question 13: Which Democrat spent the most money? Prove it!__\n",
    "* Bernard Sanders and Hillary Rodham Clinton were the top two candidates in the 2016 Presidential Race. \n",
    "* Form a hypothesis about which candidate spent more money\n",
    "* Test your hypothesis (Hint: Use a t-test to prove your hypothesis and add confidence to your results)"
   ]
  },
  {
   "cell_type": "code",
   "execution_count": 13,
   "metadata": {
    "collapsed": false
   },
   "outputs": [
    {
     "name": "stdout",
     "output_type": "stream",
     "text": [
      " The probability of observing test stats of  9.85572552331  is about  6.71749973726e-23\n"
     ]
    }
   ],
   "source": [
    "# Answer question 13:\n",
    "\n",
    "from scipy.stats import stats \n",
    "\n",
    "Bernie=prez_df[prez_df['cand_nm']=='Sanders, Bernard']\n",
    "Hillary=prez_df[prez_df['cand_nm']=='Clinton, Hillary Rodham']\n",
    "democrat_ttest=stats.ttest_ind(Bernie['disb_amt'],Hillary['disb_amt'])\n",
    "Bernie_Hillary=prez_df[(prez_df['cand_nm']=='Sanders, Bernard') & (prez_df['cand_nm']=='Clinton, Hillary Rodham')]\n",
    "# Note that, the t-test is essentially measuring the disitrbution of difference between two samples. \n",
    "#If the hypothesis is true, then we would expect that the t-stats to be close to 0 \n",
    "print(' The probability of observing test stats of ', democrat_ttest.statistic, ' is about ', democrat_ttest.pvalue)\n",
    "\n"
   ]
  },
  {
   "cell_type": "markdown",
   "metadata": {},
   "source": [
    "__Question 14: What states are these now?__\n",
    "* Check each of the unique values of states\n",
    "* Remove any strange values from the prez_df"
   ]
  },
  {
   "cell_type": "code",
   "execution_count": 14,
   "metadata": {
    "collapsed": false
   },
   "outputs": [],
   "source": [
    "# Answer question 14:\n",
    "set(prez_df['recipient_st'])\n",
    "states = [\"AL\", \"AK\", \"AZ\", \"AR\", \"CA\", \"CO\", \"CT\", \"DC\", \"DE\", \"FL\", \"GA\", \n",
    "          \"HI\", \"ID\", \"IL\", \"IN\", \"IA\", \"KS\", \"KY\", \"LA\", \"ME\", \"MD\", \n",
    "          \"MA\", \"MI\", \"MN\", \"MS\", \"MO\", \"MT\", \"NE\", \"NV\", \"NH\", \"NJ\", \n",
    "          \"NM\", \"NY\", \"NC\", \"ND\", \"OH\", \"OK\", \"OR\", \"PA\", \"RI\", \"SC\", \n",
    "          \"SD\", \"TN\", \"TX\", \"UT\", \"VT\", \"VA\", \"WA\", \"WV\", \"WI\", \"WY\"]\n",
    "#strange_states=set(prez_df['recipient_st'])-set(states)\n",
    "prez_df=prez_df[prez_df['recipient_st'].isin(states)]"
   ]
  },
  {
   "cell_type": "markdown",
   "metadata": {},
   "source": [
    "__Question 15: What states were most visited by which canadidates?__\n",
    "* Hint 1: Calculate number of visits to each state by each candidate\n",
    "* Hint 2: Use a clustermap to identify the states that were most commonly visited by individual candidates"
   ]
  },
  {
   "cell_type": "code",
   "execution_count": 15,
   "metadata": {
    "collapsed": false
   },
   "outputs": [],
   "source": [
    "# Answer question 15:\n",
    "\n",
    "# group the data by state and candidate names and find it size (essentially counting the rows for each state-candidate combo)\n",
    "number_of_visits=prez_df.groupby(by=['recipient_st','cand_nm']).size().reset_index(name='count')\n",
    "\n",
    "# reshape the data frame so you have column = recipient_st and row = cand_nm\n",
    "\n",
    "state_and_cand=number_of_visits.pivot(index='recipient_st',columns='cand_nm',values='count')\n"
   ]
  },
  {
   "cell_type": "code",
   "execution_count": 16,
   "metadata": {
    "collapsed": false
   },
   "outputs": [
    {
     "data": {
      "text/plain": [
       "<matplotlib.axes._subplots.AxesSubplot at 0x11234cbe0>"
      ]
     },
     "execution_count": 16,
     "metadata": {},
     "output_type": "execute_result"
    },
    {
     "data": {
      "image/png": "[encoded data removed]",
      "text/plain": [
       "<matplotlib.figure.Figure at 0x115f4ab00>"
      ]
     },
     "metadata": {},
     "output_type": "display_data"
    }
   ],
   "source": [
    "# set size of figure so it's large enough\n",
    "fig2=plt.figure(figsize=(20,20))\n",
    "sns.heatmap(state_and_cand)"
   ]
  },
  {
   "cell_type": "markdown",
   "metadata": {},
   "source": [
    "__So who traveled to where most__?\n",
    "According to the heatmap, Hilary Clinton traveled to NY the most frequently compared to other candidates!"
   ]
  },
  {
   "cell_type": "code",
   "execution_count": null,
   "metadata": {
    "collapsed": true
   },
   "outputs": [],
   "source": [
    "! "
   ]
  }
 ],
 "metadata": {
  "kernelspec": {
   "display_name": "Python 3",
   "language": "python",
   "name": "python3"
  },
  "language_info": {
   "codemirror_mode": {
    "name": "ipython",
    "version": 3
   },
   "file_extension": ".py",
   "mimetype": "text/x-python",
   "name": "python",
   "nbconvert_exporter": "python",
   "pygments_lexer": "ipython3",
   "version": "3.6.0"
  }
 },
 "nbformat": 4,
 "nbformat_minor": 2
}
